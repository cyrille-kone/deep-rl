{
  "nbformat": 4,
  "nbformat_minor": 0,
  "metadata": {
    "colab": {
      "name": "environement_testing.ipynb",
      "provenance": [],
      "collapsed_sections": [
        "MIqxXLIWD-Ju",
        "KgB1rxF6gbqx",
        "wWt7FE7bTEaF",
        "ZcW9YhtoTHbC",
        "ewgpRODdT6dR",
        "Ddy93a-SYDaU"
      ]
    },
    "kernelspec": {
      "name": "python3",
      "display_name": "Python 3"
    },
    "language_info": {
      "name": "python"
    }
  },
  "cells": [
    {
      "cell_type": "markdown",
      "source": [
        "#Imports"
      ],
      "metadata": {
        "id": "MIqxXLIWD-Ju"
      }
    },
    {
      "cell_type": "code",
      "execution_count": 2,
      "metadata": {
        "id": "N9LIQNq4PUUv"
      },
      "outputs": [],
      "source": [
        "# Fixing the haiku problem\n",
        "!pip install --upgrade pip\n",
        "!pip install --upgrade \"jax[cuda]\" -f https://storage.googleapis.com/jax-releases/jax_releases.html\n",
        "\n",
        "# Standard installs\n",
        "!pip install dm-acme\n",
        "!pip install dm-acme[reverb]\n",
        "!pip install dm-acme[jax]\n",
        "!pip install dm-acme[tf]\n",
        "!pip install dm-acme[envs]\n",
        "!pip install dm-env\n",
        "!pip install dm-haiku\n",
        "!pip install dm-tree\n",
        "!pip install chex\n",
        "!sudo apt-get install -y xvfb ffmpeg\n",
        "!pip install imageio\n",
        "!pip install gym\n",
        "!pip install gym[classic_control]\n",
        "\n",
        "!apt-get install -y patchelf\n",
        "\n",
        "!apt-get install x11-utils\n",
        "!pip install pyglet\n",
        "\n",
        "!pip install gym pyvirtualdisplay\n",
        "\n",
        "!apt-get install -y \\\n",
        "    libgl1-mesa-dev \\\n",
        "    libgl1-mesa-glx \\\n",
        "    libglew-dev \\\n",
        "    libosmesa6-dev \\\n",
        "    software-properties-common\n",
        "!pip install free-mujoco-py\n",
        "!pip install imageio-ffmpeg\n",
        "\n",
        "from IPython.display import clear_output\n",
        "clear_output()"
      ]
    },
    {
      "cell_type": "code",
      "source": [
        "%matplotlib inline\n",
        "import IPython\n",
        "from IPython.display import HTML\n",
        "from IPython import display as ipythondisplay\n",
        "\n",
        "import acme\n",
        "from acme import datasets\n",
        "from acme import types\n",
        "from acme import specs\n",
        "from acme.wrappers import gym_wrapper\n",
        "import base64\n",
        "from base64 import b64encode\n",
        "import chex\n",
        "import collections\n",
        "from collections import namedtuple\n",
        "import dm_env\n",
        "import enum\n",
        "import functools\n",
        "import gym\n",
        "import mujoco_py\n",
        "import haiku as hk\n",
        "import imageio\n",
        "import io\n",
        "import itertools\n",
        "import jax\n",
        "from jax import tree_util\n",
        "import optax\n",
        "import jax.numpy as jnp\n",
        "import matplotlib.pyplot as plt\n",
        "import multiprocessing as mp\n",
        "import multiprocessing.connection\n",
        "import numpy as np\n",
        "import pandas as pd\n",
        "import random\n",
        "import reverb\n",
        "import rlax\n",
        "import time\n",
        "import tree\n",
        "from typing import *\n",
        "import warnings\n",
        "import pyglet\n",
        "pyglet.options['search_local_libs'] = False\n",
        "pyglet.options['shadow_window']=False\n",
        "from pyglet.window import xlib\n",
        "xlib._have_utf8 = False\n",
        "\n",
        "from pyvirtualdisplay import Display\n",
        "display = Display(visible=False, size=(1400, 900))\n",
        "display.start()\n",
        " \n",
        "np.set_printoptions(precision=3, suppress=1)\n",
        "\n",
        "%matplotlib inline"
      ],
      "metadata": {
        "id": "9ibEomWwD5XN"
      },
      "execution_count": 3,
      "outputs": []
    },
    {
      "cell_type": "markdown",
      "source": [
        "# Utils"
      ],
      "metadata": {
        "id": "KgB1rxF6gbqx"
      }
    },
    {
      "cell_type": "code",
      "source": [
        "import abc\n",
        "\n",
        "# Encapsulate a trajectory. Temporally, a trajectory unrolls as\n",
        "# o_0, a_0, r_0, d_0, ..., o_{T-1}, a_{T-1}, r_{T-1}, d_{T-1}.\n",
        "@chex.dataclass\n",
        "class Trajectory:\n",
        "  observations: types.NestedArray  # [T, B, ...]\n",
        "  actions: types.NestedArray  # [T, B, ...]\n",
        "  rewards: chex.ArrayNumpy  # [T, B]\n",
        "  dones: chex.ArrayNumpy  # [T, B]\n",
        "  discounts: chex.ArrayNumpy # [T, B]\n",
        "\n",
        "# A very simple agent API, with just enough to interact with the environment\n",
        "# and to update its potential parameters.\n",
        "class Agent(abc.ABC):\n",
        "  @abc.abstractmethod\n",
        "  def learner_step(self, trajectory: Trajectory) -> Mapping[str, chex.ArrayNumpy]:\n",
        "    \"\"\"One step of learning on a trajectory.\n",
        "    \n",
        "    The mapping returned can contain various logs.\n",
        "    \"\"\"\n",
        "    pass\n",
        "\n",
        "  @abc.abstractmethod\n",
        "  def batched_actor_step(self, observations: types.NestedArray) -> types.NestedArray:\n",
        "    \"\"\"Returns actions in response to observations.\n",
        "    \n",
        "    Observations are assumed to be batched, i.e. they are typically arrays, or\n",
        "    nests (think nested dictionaries) of arrays with shape (B, F_1, F_2, ...)\n",
        "    where B is the batch size, and F_1, F_2, ... are feature dimensions.\n",
        "    \"\"\"\n",
        "    pass\n"
      ],
      "metadata": {
        "id": "ebkO5A4-XaFW"
      },
      "execution_count": 4,
      "outputs": []
    },
    {
      "cell_type": "code",
      "source": [
        "def simple_interaction_loop(agent: Agent, environment: dm_env.Environment, max_num_steps: int = 5000) -> None:\n",
        "  ts = environment.reset()\n",
        "  for _ in range(max_num_steps):\n",
        "    if ts.last():\n",
        "      break\n",
        "\n",
        "    batched_observation = tree.map_structure(lambda x: x[None], ts.observation)\n",
        "    action = agent.batched_actor_step(batched_observation)[0]  # batch size = 1\n",
        "    ts = environment.step(action)"
      ],
      "metadata": {
        "id": "XAVXO6B9Tlo0"
      },
      "execution_count": 5,
      "outputs": []
    },
    {
      "cell_type": "code",
      "source": [
        "def display_video(frames, filename='temp.mp4', frame_repeat=1):\n",
        "  \"\"\"Save and display video.\"\"\"\n",
        "  # Write video\n",
        "  with imageio.get_writer(filename, fps=60) as video:\n",
        "    for frame in frames:\n",
        "      for _ in range(frame_repeat):\n",
        "        video.append_data(frame)\n",
        "  # Read video and display the video\n",
        "  video = open(filename, 'rb').read()\n",
        "  b64_video = base64.b64encode(video)\n",
        "  video_tag = ('<video  width=\"320\" height=\"240\" controls alt=\"test\" '\n",
        "               'src=\"data:video/mp4;base64,{0}\">').format(b64_video.decode())\n",
        "  return IPython.display.HTML(video_tag)"
      ],
      "metadata": {
        "id": "zLFxd2otgYwl"
      },
      "execution_count": 6,
      "outputs": []
    },
    {
      "cell_type": "markdown",
      "source": [
        "# Environments"
      ],
      "metadata": {
        "id": "aL3bJLDrECYI"
      }
    },
    {
      "cell_type": "markdown",
      "source": [
        "###Pendulum"
      ],
      "metadata": {
        "id": "wWt7FE7bTEaF"
      }
    },
    {
      "cell_type": "code",
      "source": [
        "class PendulumRandomAgent(Agent):\n",
        "  def __init__(self, environment_spec: specs.EnvironmentSpec) -> None:\n",
        "    self.rng = jax.random.PRNGKey(0)\n",
        "\n",
        "  def batched_actor_step(self, observation: types.NestedArray) -> types.NestedArray:\n",
        "    self.rng, subkey = jax.random.split(self.rng)\n",
        "    batch_size = len(observation)\n",
        "    return [jax.random.normal(subkey,[batch_size])]\n",
        "\n",
        "  def learner_step(self, trajectory: Trajectory) -> Mapping[str, chex.ArrayNumpy]:\n",
        "    return {\"log\": \"Rien à signaler, je suis un random agent.\"}"
      ],
      "metadata": {
        "id": "egK6L9gqZW21"
      },
      "execution_count": 13,
      "outputs": []
    },
    {
      "cell_type": "code",
      "source": [
        "class PendulumEnv(dm_env.Environment):\n",
        "  def __init__(self, for_evaluation: bool) -> None:\n",
        "    self._env = gym.make('Pendulum-v0')\n",
        "    self._for_evaluation = for_evaluation\n",
        "    if self._for_evaluation:\n",
        "      self.screens = []\n",
        "\n",
        "  def step(self, action: chex.ArrayNumpy) -> dm_env.TimeStep:\n",
        "    new_obs, reward, done, _ = self._env.step(action)\n",
        "    if self._for_evaluation:\n",
        "      self.screens.append(self._env.render(mode='rgb_array'))\n",
        "    if done:\n",
        "      return dm_env.termination(reward, new_obs)\n",
        "    return dm_env.transition(reward, new_obs)\n",
        "\n",
        "  def reset(self) -> dm_env.TimeStep:\n",
        "    obs = self._env.reset()\n",
        "    if self._for_evaluation:\n",
        "      self.screens.append(self._env.render(mode='rgb_array'))\n",
        "    return dm_env.restart(obs)\n",
        "\n",
        "  def observation_spec(self) -> specs.BoundedArray:\n",
        "    return specs.BoundedArray(shape=(3,), minimum=-8., maximum=8., dtype=np.float32)\n",
        "\n",
        "  def action_spec(self) -> specs.BoundedArray:\n",
        "    return specs.BoundedArray(shape=(1,), minimum=-2., maximum=2., dtype=np.float32)\n",
        "\n",
        "  def close(self) -> None:\n",
        "    self._env.close()"
      ],
      "metadata": {
        "id": "-jeesYcBcR5z"
      },
      "execution_count": 7,
      "outputs": []
    },
    {
      "cell_type": "code",
      "source": [
        "#pendulum_environment = PendulumEnv(for_evaluation=True)\n",
        "#pendulum_environment_spec = acme.make_environment_spec(pendulum_environment)\n",
        "#pendulum_random_agent = PendulumRandomAgent(pendulum_environment_spec)\n",
        "\n",
        "#simple_interaction_loop(pendulum_random_agent, pendulum_environment, 5000)"
      ],
      "metadata": {
        "id": "28nQ4_z7cWoe"
      },
      "execution_count": 8,
      "outputs": []
    },
    {
      "cell_type": "code",
      "source": [
        "#display_video(np.stack(pendulum_environment.screens, axis=0))"
      ],
      "metadata": {
        "id": "FBf9RPhDgvQa"
      },
      "execution_count": 9,
      "outputs": []
    },
    {
      "cell_type": "markdown",
      "source": [
        "###CartPole"
      ],
      "metadata": {
        "id": "ZcW9YhtoTHbC"
      }
    },
    {
      "cell_type": "code",
      "source": [
        "class CartPoleRandomAgent(Agent):\n",
        "  def __init__(self, environment_spec: specs.EnvironmentSpec) -> None:\n",
        "    self.rng = jax.random.PRNGKey(0)\n",
        "\n",
        "  def batched_actor_step(self, observation: types.NestedArray) -> types.NestedArray:\n",
        "    self.rng, subkey = jax.random.split(self.rng)\n",
        "    batch_size = len(observation)\n",
        "    return [np.random.randint(0,2)]\n",
        "\n",
        "  def learner_step(self, trajectory: Trajectory) -> Mapping[str, chex.ArrayNumpy]:\n",
        "    return {\"log\": \"Rien à signaler, je suis un random agent.\"}"
      ],
      "metadata": {
        "id": "SWQ-XI-1TN__"
      },
      "execution_count": 10,
      "outputs": []
    },
    {
      "cell_type": "code",
      "source": [
        "class CartPoleEnv(dm_env.Environment):\n",
        "  def __init__(self, for_evaluation: bool) -> None:\n",
        "    self._env = gym.make('CartPole-v0')\n",
        "    self._for_evaluation = for_evaluation\n",
        "    if self._for_evaluation:\n",
        "      self.screens = []\n",
        "\n",
        "  def step(self, action: chex.ArrayNumpy) -> dm_env.TimeStep:\n",
        "    new_obs, reward, done, _ = self._env.step(action)\n",
        "    if self._for_evaluation:\n",
        "      self.screens.append(self._env.render(mode='rgb_array'))\n",
        "    if done:\n",
        "      return dm_env.termination(reward, new_obs)\n",
        "    return dm_env.transition(reward, new_obs)\n",
        "\n",
        "  def reset(self) -> dm_env.TimeStep:\n",
        "    obs = self._env.reset()\n",
        "    if self._for_evaluation:\n",
        "      self.screens.append(self._env.render(mode='rgb_array'))\n",
        "    return dm_env.restart(obs)\n",
        "\n",
        "  def observation_spec(self) -> specs.BoundedArray:\n",
        "    return specs.BoundedArray(shape=(4,), minimum=-np.inf, maximum=np.inf, dtype=np.float32)\n",
        "\n",
        "  def action_spec(self) -> specs.BoundedArray:\n",
        "    return specs.BoundedArray(shape=(1,), minimum=0, maximum=1, dtype=np.int32)\n",
        "\n",
        "  def close(self) -> None:\n",
        "    self._env.close()"
      ],
      "metadata": {
        "id": "N-AMHDgbLcsK"
      },
      "execution_count": 11,
      "outputs": []
    },
    {
      "cell_type": "code",
      "source": [
        "cartpole_environment = CartPoleEnv(for_evaluation=True)\n",
        "cartpole_environment_spec = acme.make_environment_spec(cartpole_environment)\n",
        "cartpole_random_agent = CartPoleRandomAgent(cartpole_environment_spec)\n",
        "\n",
        "simple_interaction_loop(cartpole_random_agent, cartpole_environment, 5000)"
      ],
      "metadata": {
        "colab": {
          "base_uri": "https://localhost:8080/"
        },
        "id": "6clt3xxhNxg3",
        "outputId": "4847e277-0fc3-479b-e0b2-0bdea77cf066"
      },
      "execution_count": 12,
      "outputs": [
        {
          "output_type": "stream",
          "name": "stderr",
          "text": [
            "WARNING:absl:No GPU/TPU found, falling back to CPU. (Set TF_CPP_MIN_LOG_LEVEL=0 and rerun for more info.)\n"
          ]
        }
      ]
    },
    {
      "cell_type": "code",
      "source": [
        "display_video(np.stack(cartpole_environment.screens, axis=0))"
      ],
      "metadata": {
        "colab": {
          "base_uri": "https://localhost:8080/",
          "height": 299
        },
        "id": "Igt7PyFmg7ES",
        "outputId": "504c5aea-43a1-4066-e5b1-c53255cf85b8"
      },
      "execution_count": 13,
      "outputs": [
        {
          "output_type": "stream",
          "name": "stderr",
          "text": [
            "WARNING:imageio_ffmpeg:IMAGEIO FFMPEG_WRITER WARNING: input image is not divisible by macro_block_size=16, resizing from (600, 400) to (608, 400) to ensure video compatibility with most codecs and players. To prevent resizing, make your input image divisible by the macro_block_size or set the macro_block_size to 1 (risking incompatibility).\n"
          ]
        },
        {
          "output_type": "execute_result",
          "data": {
            "text/plain": [
              "<IPython.core.display.HTML object>"
            ],
            "text/html": [
              "<video  width=\"320\" height=\"240\" controls alt=\"test\" src=\"data:video/mp4;base64,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\">"
            ]
          },
          "metadata": {},
          "execution_count": 13
        }
      ]
    },
    {
      "cell_type": "markdown",
      "source": [
        "### Inverted Pendulum"
      ],
      "metadata": {
        "id": "ewgpRODdT6dR"
      }
    },
    {
      "cell_type": "code",
      "source": [
        "class InvertedPendulumRandomAgent(Agent):\n",
        "  def __init__(self, environment_spec: specs.EnvironmentSpec) -> None:\n",
        "    self.rng = jax.random.PRNGKey(0)\n",
        "\n",
        "  def batched_actor_step(self, observation: types.NestedArray) -> types.NestedArray:\n",
        "    self.rng, subkey = jax.random.split(self.rng)\n",
        "    batch_size = len(observation)\n",
        "    return [jax.random.normal(subkey,[batch_size])]\n",
        "\n",
        "  def learner_step(self, trajectory: Trajectory) -> Mapping[str, chex.ArrayNumpy]:\n",
        "    return {\"log\": \"Rien à signaler, je suis un random agent.\"}"
      ],
      "metadata": {
        "id": "eqrLImFXU7Ge"
      },
      "execution_count": 14,
      "outputs": []
    },
    {
      "cell_type": "code",
      "source": [
        "class InvertedPendulumEnv(dm_env.Environment):\n",
        "  def __init__(self, for_evaluation: bool) -> None:\n",
        "    self._env = gym.make('InvertedPendulum-v2')\n",
        "    self._for_evaluation = for_evaluation\n",
        "    if self._for_evaluation:\n",
        "      self.screens = []\n",
        "\n",
        "  def step(self, action: chex.ArrayNumpy) -> dm_env.TimeStep:\n",
        "    new_obs, reward, done, _ = self._env.step(action)\n",
        "    if self._for_evaluation:\n",
        "      self.screens.append(self._env.render(mode='rgb_array'))\n",
        "    if done:\n",
        "      return dm_env.termination(reward, new_obs)\n",
        "    return dm_env.transition(reward, new_obs)\n",
        "\n",
        "  def reset(self) -> dm_env.TimeStep:\n",
        "    obs = self._env.reset()\n",
        "    if self._for_evaluation:\n",
        "      self.screens.append(self._env.render(mode='rgb_array'))\n",
        "    return dm_env.restart(obs)\n",
        "\n",
        "  def observation_spec(self) -> specs.BoundedArray:\n",
        "    return specs.BoundedArray(shape=(4,), minimum=-np.inf, maximum=np.inf, dtype=np.float32)\n",
        "\n",
        "  def action_spec(self) -> specs.BoundedArray:\n",
        "    return specs.BoundedArray(shape=(1,), minimum=-3., maximum=3., dtype=np.float32)\n",
        "\n",
        "  def close(self) -> None:\n",
        "    self._env.close()"
      ],
      "metadata": {
        "id": "LVO_EhicUMA3"
      },
      "execution_count": 15,
      "outputs": []
    },
    {
      "cell_type": "code",
      "source": [
        "invertedpendulum_environment = InvertedPendulumEnv(for_evaluation=True)\n",
        "invertedpendulum_environment_spec = acme.make_environment_spec(invertedpendulum_environment)\n",
        "invertedpendulum_random_agent = InvertedPendulumRandomAgent(invertedpendulum_environment_spec)\n",
        "\n",
        "simple_interaction_loop(invertedpendulum_random_agent, invertedpendulum_environment, 5000)"
      ],
      "metadata": {
        "id": "vdUMeQk1VZm-"
      },
      "execution_count": 16,
      "outputs": []
    },
    {
      "cell_type": "code",
      "source": [
        "display_video(np.stack(invertedpendulum_environment.screens, axis=0))"
      ],
      "metadata": {
        "colab": {
          "base_uri": "https://localhost:8080/",
          "height": 299
        },
        "id": "gpmZDJW5g1qE",
        "outputId": "0a033b38-bf0f-4b32-d828-f4dbd44fb346"
      },
      "execution_count": 17,
      "outputs": [
        {
          "output_type": "stream",
          "name": "stderr",
          "text": [
            "WARNING:imageio_ffmpeg:IMAGEIO FFMPEG_WRITER WARNING: input image is not divisible by macro_block_size=16, resizing from (500, 500) to (512, 512) to ensure video compatibility with most codecs and players. To prevent resizing, make your input image divisible by the macro_block_size or set the macro_block_size to 1 (risking incompatibility).\n"
          ]
        },
        {
          "output_type": "execute_result",
          "data": {
            "text/plain": [
              "<IPython.core.display.HTML object>"
            ],
            "text/html": [
              "<video  width=\"320\" height=\"240\" controls alt=\"test\" src=\"data:video/mp4;base64,AAAAIGZ0eXBpc29tAAACAGlzb21pc28yYXZjMW1wNDEAAAAIZnJlZQAAB7JtZGF0AAACrgYF//+q3EXpvebZSLeWLNgg2SPu73gyNjQgLSBjb3JlIDE1OSByMjk5MSAxNzcxYjU1IC0gSC4yNjQvTVBFRy00IEFWQyBjb2RlYyAtIENvcHlsZWZ0IDIwMDMtMjAxOSAtIGh0dHA6Ly93d3cudmlkZW9sYW4ub3JnL3gyNjQuaHRtbCAtIG9wdGlvbnM6IGNhYmFjPTEgcmVmPTMgZGVibG9jaz0xOjA6MCBhbmFseXNlPTB4MzoweDExMyBtZT1oZXggc3VibWU9NyBwc3k9MSBwc3lfcmQ9MS4wMDowLjAwIG1peGVkX3JlZj0xIG1lX3JhbmdlPTE2IGNocm9tYV9tZT0xIHRyZWxsaXM9MSA4eDhkY3Q9MSBjcW09MCBkZWFkem9uZT0yMSwxMSBmYXN0X3Bza2lwPTEgY2hyb21hX3FwX29mZnNldD0tMiB0aHJlYWRzPTMgbG9va2FoZWFkX3RocmVhZHM9MSBzbGljZWRfdGhyZWFkcz0wIG5yPTAgZGVjaW1hdGU9MSBpbnRlcmxhY2VkPTAgYmx1cmF5X2NvbXBhdD0wIGNvbnN0cmFpbmVkX2ludHJhPTAgYmZyYW1lcz0zIGJfcHlyYW1pZD0yIGJfYWRhcHQ9MSBiX2JpYXM9MCBkaXJlY3Q9MSB3ZWlnaHRiPTEgb3Blbl9nb3A9MCB3ZWlnaHRwPTIga2V5aW50PTI1MCBrZXlpbnRfbWluPTI1IHNjZW5lY3V0PTQwIGludHJhX3JlZnJlc2g9MCByY19sb29rYWhlYWQ9NDAgcmM9Y3JmIG1idHJlZT0xIGNyZj0yNS4wIHFjb21wPTAuNjAgcXBtaW49MCBxcG1heD02OSBxcHN0ZXA9NCBpcF9yYXRpbz0xLjQwIGFxPTE6MS4wMACAAAAC42WIhAAr//71J/gU1QhES+FrYe3Ut0kw0XCxLbPQAAADAAADAKkokPsCArTIVAAAC2ABIhpg/x67zgFDEonhOE9Be1++cOYoMia9qyhs3Ee5BeFFIZsbI0Od+I4X27NVILv2wJYNSZ0O52V/hjuZUR1gHRKObG5rm+Xlw6a1rRe+6urB5KlHKT9E8uygZyNZXTwanm3mi2CmzsfflQqvUeH4ShGvjAhZGPgcPzE0UgAAWUcZuCqC5sspBnuxaFld9HJfEBCK7Oi4XkyrioP8C2JCbuLRHcQtrQtLPAO6I26M59T9pzogfWzeva0yqKFSdVaggYhlURTipG0byJlVnGZB9kDWKiL99mj9JfWibgDG8xmwSMLY6tAYBGCZvUDDry3nmsOs6Ebz9wv/nDzk0x4U3l6ERcumhnxYRfJSw6ZRx7VsHWBEkyAnVy5VX/m3UZYv7tFM5ovKY8/AwTfRPxKV5/3xr9avTM6zHqgSk+jXVJ6EP/BNegGCxsQtH8Dgn6+MyNnR09a2kKA1qw8XxtY2fGfiFtkqz/QTuXVbBebnh1Es8vfMgsMrY+5i3RalVHKPaQfOTqZC/DVCCnu7NseOOE7YnlL2zeV0BPaUSGwz7vMT4QZOlh1D1caIQlats7kNuA2gHpUclhYplOz9Ecj2YT0TDs6ORB4J0Te73rHn4Zk4mDxAxEdJ8V2of/jbuIo4ulmy5tSD8MxhgAhmRBo3Nazp1LZjCbYpYvq5aPTJppFgg6RpbKnHT02ywosmb8Z+rXqLBlsadZX4q5bGHJz/Q9o4W32Oa/ymldaIMtLB1s6kcos5PuBX4FtD6Leijf/mGUV9SahZszaqwnlkHm8ck7AI47wIgVchptGyHmThZpUfq3bH38kRZrd8SJ/Pgc7kdjkc+eFJrzPBNy1t3uFZs3fFfUsnamm03gRrseTQ80QdcAMBf5f4+LNbqPgA1gAniZrs6U4AAAMAAAMAAAMAAWcAAACIQZokbEI/+lgAV38LsYp7QxeJPJpJlOQC5aArux7yATT3IiuZnSis9ENRY08HBGhES0hmbkRH3ZwOY2q4VRWOGoNUzJC3vbnp14vhUHf9SuobQvA4OiB7oSS2WWYBJFEBtkAnGyGCakFTk/UxEqqQDURA5SQ5RHsGvDGwaRpeBhgYRw9nsWi3hwAAAGZBnkJ4hH8AfCSocCvcAcZYsG2iXQnj4TCAKZKUVAW2n1mRQkjgoI1VIuWXDO4zxS6YCywYwx37FGRZe9nB6SdqK9Y8cvLga3mb0H7xonJy45zt7AiT1n/TajSgFjwMYNYWQJAAAd0AAABFAZ5hdEf/AJr8yXn62+0PO9zKZlYAzr+YRyRbIOR6GqJJExwha72jhNfhgYi9TKPMH2clDg6yRfdNOSAceIGVIfcUAJ2AAAAAVgGeY2pH/wCa7C0VmYtgMMia/57dXPpgvQkhTh8SH6gffTsQBJGhXSX1YJeHGOAkmSUUlwKn6XNRtnOVpD8sY0ve6Gp8SpGUW/W6mKiopRMglhMoAEHBAAAAdEGaZUmoQWiZTAj/+lgAVIJEiNm7ny4Nt/MbGK0MY8iNuBP2WcSgZaJ4go0wQ8wQ5Achk3rIBs5F1V3/x5+m9Povm4a2GzyG3Uy94Hhu+Cu39orLsRSkVMr9pzXQs1aGM4+I6itl83ZbX9Z5lZH8EgJRm2wRAAADWW1vb3YAAABsbXZoZAAAAAAAAAAAAAAAAAAAA+gAAABkAAEAAAEAAAAAAAAAAAAAAAABAAAAAAAAAAAAAAAAAAAAAQAAAAAAAAAAAAAAAAAAQAAAAAAAAAAAAAAAAAAAAAAAAAAAAAAAAAAAAAAAAAIAAAKDdHJhawAAAFx0a2hkAAAAAwAAAAAAAAAAAAAAAQAAAAAAAABkAAAAAAAAAAAAAAAAAAAAAAABAAAAAAAAAAAAAAAAAAAAAQAAAAAAAAAAAAAAAAAAQAAAAAIAAAACAAAAAAAAJGVkdHMAAAAcZWxzdAAAAAAAAAABAAAAZAAAAgAAAQAAAAAB+21kaWEAAAAgbWRoZAAAAAAAAAAAAAAAAAAAPAAAAAYAVcQAAAAAAC1oZGxyAAAAAAAAAAB2aWRlAAAAAAAAAAAAAAAAVmlkZW9IYW5kbGVyAAAAAaZtaW5mAAAAFHZtaGQAAAABAAAAAAAAAAAAAAAkZGluZgAAABxkcmVmAAAAAAAAAAEAAAAMdXJsIAAAAAEAAAFmc3RibAAAAJZzdHNkAAAAAAAAAAEAAACGYXZjMQAAAAAAAAABAAAAAAAAAAAAAAAAAAAAAAIAAgAASAAAAEgAAAAAAAAAAQAAAAAAAAAAAAAAAAAAAAAAAAAAAAAAAAAAAAAAAAAAABj//wAAADBhdmNDAWQAH//hABhnZAAfrNlAgBBoQAAAAwBAAAAeA8YMZYABAAVo6+csiwAAABhzdHRzAAAAAAAAAAEAAAAGAAABAAAAABRzdHNzAAAAAAAAAAEAAAABAAAAQGN0dHMAAAAAAAAABgAAAAEAAAIAAAAAAQAABQAAAAABAAACAAAAAAEAAAAAAAAAAQAAAQAAAAABAAACAAAAABxzdHNjAAAAAAAAAAEAAAABAAAABgAAAAEAAAAsc3RzegAAAAAAAAAAAAAABgAABZkAAACMAAAAagAAAEkAAABaAAAAeAAAABRzdGNvAAAAAAAAAAEAAAAwAAAAYnVkdGEAAABabWV0YQAAAAAAAAAhaGRscgAAAAAAAAAAbWRpcmFwcGwAAAAAAAAAAAAAAAAtaWxzdAAAACWpdG9vAAAAHWRhdGEAAAABAAAAAExhdmY1OC4yOS4xMDA=\">"
            ]
          },
          "metadata": {},
          "execution_count": 17
        }
      ]
    },
    {
      "cell_type": "markdown",
      "source": [
        "### Reacher"
      ],
      "metadata": {
        "id": "Ddy93a-SYDaU"
      }
    },
    {
      "cell_type": "code",
      "source": [
        "class ReacherRandomAgent(Agent):\n",
        "  def __init__(self, environment_spec: specs.EnvironmentSpec) -> None:\n",
        "    self.rng = jax.random.PRNGKey(0)\n",
        "\n",
        "  def batched_actor_step(self, observation: types.NestedArray) -> types.NestedArray:\n",
        "    self.rng, subkey = jax.random.split(self.rng)\n",
        "    batch_size = len(observation)\n",
        "    return [jax.random.normal(subkey,[batch_size,2])]\n",
        "\n",
        "  def learner_step(self, trajectory: Trajectory) -> Mapping[str, chex.ArrayNumpy]:\n",
        "    return {\"log\": \"Rien à signaler, je suis un random agent.\"}"
      ],
      "metadata": {
        "id": "g3AvU7R6YHZb"
      },
      "execution_count": 18,
      "outputs": []
    },
    {
      "cell_type": "code",
      "source": [
        "class ReacherEnv(dm_env.Environment):\n",
        "  def __init__(self, for_evaluation: bool) -> None:\n",
        "    self._env = gym.make('Reacher-v2')\n",
        "    self._for_evaluation = for_evaluation\n",
        "    if self._for_evaluation:\n",
        "      self.screens = []\n",
        "\n",
        "  def step(self, action: chex.ArrayNumpy) -> dm_env.TimeStep:\n",
        "    new_obs, reward, done, _ = self._env.step(action)\n",
        "    if self._for_evaluation:\n",
        "      self.screens.append(self._env.render(mode='rgb_array'))\n",
        "    if done:\n",
        "      return dm_env.termination(reward, new_obs)\n",
        "    return dm_env.transition(reward, new_obs)\n",
        "\n",
        "  def reset(self) -> dm_env.TimeStep:\n",
        "    obs = self._env.reset()\n",
        "    if self._for_evaluation:\n",
        "      self.screens.append(self._env.render(mode='rgb_array'))\n",
        "    return dm_env.restart(obs)\n",
        "\n",
        "  def observation_spec(self) -> specs.BoundedArray:\n",
        "    return specs.BoundedArray(shape=(11,), minimum=-np.inf, maximum=np.inf, dtype=np.float32)\n",
        "\n",
        "  def action_spec(self) -> specs.BoundedArray:\n",
        "    return specs.BoundedArray(shape=(2,), minimum=-1., maximum=1., dtype=np.float32)\n",
        "\n",
        "  def close(self) -> None:\n",
        "    self._env.close()"
      ],
      "metadata": {
        "id": "aCD-TxAZYHWA"
      },
      "execution_count": 19,
      "outputs": []
    },
    {
      "cell_type": "code",
      "source": [
        "reacher_environment = ReacherEnv(for_evaluation=True)\n",
        "reacher_environment_spec = acme.make_environment_spec(reacher_environment)\n",
        "reacher_random_agent = ReacherRandomAgent(reacher_environment_spec)\n",
        "\n",
        "simple_interaction_loop(reacher_random_agent, reacher_environment, 5000)"
      ],
      "metadata": {
        "id": "1KLEsAzIYHNu"
      },
      "execution_count": 20,
      "outputs": []
    },
    {
      "cell_type": "code",
      "source": [
        "display_video(np.stack(reacher_environment.screens, axis=0))"
      ],
      "metadata": {
        "colab": {
          "base_uri": "https://localhost:8080/",
          "height": 299
        },
        "id": "nTO22CGdgxAN",
        "outputId": "6aa1368c-5ee5-42c4-b3c6-9c01c2d63163"
      },
      "execution_count": 21,
      "outputs": [
        {
          "output_type": "stream",
          "name": "stderr",
          "text": [
            "WARNING:imageio_ffmpeg:IMAGEIO FFMPEG_WRITER WARNING: input image is not divisible by macro_block_size=16, resizing from (500, 500) to (512, 512) to ensure video compatibility with most codecs and players. To prevent resizing, make your input image divisible by the macro_block_size or set the macro_block_size to 1 (risking incompatibility).\n"
          ]
        },
        {
          "output_type": "execute_result",
          "data": {
            "text/plain": [
              "<IPython.core.display.HTML object>"
            ],
            "text/html": [
              "<video  width=\"320\" height=\"240\" controls alt=\"test\" src=\"data:video/mp4;base64,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\">"
            ]
          },
          "metadata": {},
          "execution_count": 21
        }
      ]
    }
  ]
}